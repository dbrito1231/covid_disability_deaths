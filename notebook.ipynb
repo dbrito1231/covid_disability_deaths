{
    "cells": [
        {
            "cell_type": "code",
            "execution_count": 37,
            "source": [
                "import numpy as np\r\n",
                "import pandas as pd\r\n",
                "import plotly.express as px\r\n",
                "from IPython.display import display\r\n"
            ],
            "outputs": [],
            "metadata": {}
        },
        {
            "cell_type": "code",
            "execution_count": 38,
            "source": [
                "df = pd.read_csv('AH_Provisional_Diabetes_Death_Counts__2020.csv')\r\n",
                "df.count()"
            ],
            "outputs": [
                {
                    "output_type": "execute_result",
                    "data": {
                        "text/plain": [
                            "Data as of                                226\n",
                            "Date_Of_Death_Year                        226\n",
                            "Date_Of_Death_Month                       226\n",
                            "AgeGroup                                  225\n",
                            "Sex                                       226\n",
                            "COVID19                                   226\n",
                            "Diabetes.uc                               226\n",
                            "Diabetes.mc                               226\n",
                            "C19PlusDiabetes                           226\n",
                            "C19PlusHypertensiveDiseases               226\n",
                            "C19PlusMajorCardiovascularDiseases        226\n",
                            "C19PlusHypertensiveDiseasesAndMCVD        226\n",
                            "C19PlusChronicLowerRespiratoryDisease     226\n",
                            "C19PlusKidneyDisease                      226\n",
                            "C19PlusChronicLiverDiseaseAndCirrhosis    226\n",
                            "C19PlusObesity                            226\n",
                            "dtype: int64"
                        ]
                    },
                    "metadata": {},
                    "execution_count": 38
                }
            ],
            "metadata": {}
        },
        {
            "cell_type": "code",
            "execution_count": 39,
            "source": [
                "df.AgeGroup.isnull().any()\r\n",
                "bool_series = pd.isnull(df.AgeGroup)\r\n",
                "df[bool_series]\r\n",
                "df.drop(labels=[127], axis=0, inplace=True)\r\n",
                "df.AgeGroup.isnull().any()\r\n",
                "df.count()"
            ],
            "outputs": [
                {
                    "output_type": "execute_result",
                    "data": {
                        "text/plain": [
                            "Data as of                                225\n",
                            "Date_Of_Death_Year                        225\n",
                            "Date_Of_Death_Month                       225\n",
                            "AgeGroup                                  225\n",
                            "Sex                                       225\n",
                            "COVID19                                   225\n",
                            "Diabetes.uc                               225\n",
                            "Diabetes.mc                               225\n",
                            "C19PlusDiabetes                           225\n",
                            "C19PlusHypertensiveDiseases               225\n",
                            "C19PlusMajorCardiovascularDiseases        225\n",
                            "C19PlusHypertensiveDiseasesAndMCVD        225\n",
                            "C19PlusChronicLowerRespiratoryDisease     225\n",
                            "C19PlusKidneyDisease                      225\n",
                            "C19PlusChronicLiverDiseaseAndCirrhosis    225\n",
                            "C19PlusObesity                            225\n",
                            "dtype: int64"
                        ]
                    },
                    "metadata": {},
                    "execution_count": 39
                }
            ],
            "metadata": {}
        },
        {
            "cell_type": "code",
            "execution_count": 45,
            "source": [
                "fig = px.histogram(df, x=\"AgeGroup\", y='COVID19', color='Sex', labels={'AgeGroup':'Age Group', 'COVID19':'COVID-19 Cases'}, title=\"Covid-19 Deaths by Age\")\r\n",
                "fig.show()"
            ],
            "outputs": [
                {
                    "output_type": "display_data",
                    "data": {
                        "application/vnd.plotly.v1+json": {
                            "config": {
                                "plotlyServerURL": "https://plot.ly"
                            },
                            "data": [
                                {
                                    "alignmentgroup": "True",
                                    "bingroup": "x",
                                    "histfunc": "sum",
                                    "hovertemplate": "Sex=Female (F)<br>Age Group=%{x}<br>sum of COVID-19 Cases=%{y}<extra></extra>",
                                    "legendgroup": "Female (F)",
                                    "marker": {
                                        "color": "#636efa",
                                        "pattern": {
                                            "shape": ""
                                        }
                                    },
                                    "name": "Female (F)",
                                    "offsetgroup": "Female (F)",
                                    "orientation": "v",
                                    "showlegend": true,
                                    "type": "histogram",
                                    "x": [
                                        "<18 years",
                                        "18-29 years",
                                        "30-39 years",
                                        "40-49 years",
                                        "50-59 years",
                                        "50-64 years",
                                        "60-69 years",
                                        "65-74 years",
                                        "70-79 years",
                                        "75-84 years",
                                        "80+ years",
                                        "85+ years",
                                        "Unknown age",
                                        "<18 years",
                                        "18-29 years",
                                        "30-39 years",
                                        "40-49 years",
                                        "50-59 years",
                                        "50-64 years",
                                        "60-69 years",
                                        "65-74 years",
                                        "70-79 years",
                                        "75-84 years",
                                        "80+ years",
                                        "85+ years",
                                        "Unknown age",
                                        "<18 years",
                                        "18-29 years",
                                        "30-39 years",
                                        "40-49 years",
                                        "50-59 years",
                                        "50-64 years",
                                        "60-69 years",
                                        "65-74 years",
                                        "70-79 years",
                                        "75-84 years",
                                        "80+ years",
                                        "85+ years",
                                        "<18 years",
                                        "18-29 years",
                                        "30-39 years",
                                        "40-49 years",
                                        "50-59 years",
                                        "50-64 years",
                                        "60-69 years",
                                        "65-74 years",
                                        "70-79 years",
                                        "75-84 years",
                                        "80+ years",
                                        "85+ years",
                                        "Unknown age",
                                        "<18 years",
                                        "18-29 years",
                                        "30-39 years",
                                        "40-49 years",
                                        "50-59 years",
                                        "50-64 years",
                                        "60-69 years",
                                        "65-74 years",
                                        "70-79 years",
                                        "75-84 years",
                                        "80+ years",
                                        "85+ years",
                                        "<18 years",
                                        "18-29 years",
                                        "30-39 years",
                                        "40-49 years",
                                        "50-59 years",
                                        "50-64 years",
                                        "60-69 years",
                                        "65-74 years",
                                        "70-79 years",
                                        "75-84 years",
                                        "80+ years",
                                        "85+ years",
                                        "<18 years",
                                        "18-29 years",
                                        "30-39 years",
                                        "40-49 years",
                                        "50-59 years",
                                        "50-64 years",
                                        "60-69 years",
                                        "65-74 years",
                                        "70-79 years",
                                        "75-84 years",
                                        "80+ years",
                                        "85+ years",
                                        "<18 years",
                                        "18-29 years",
                                        "30-39 years",
                                        "40-49 years",
                                        "50-59 years",
                                        "50-64 years",
                                        "60-69 years",
                                        "65-74 years",
                                        "70-79 years",
                                        "75-84 years",
                                        "80+ years",
                                        "85+ years",
                                        "Unknown age",
                                        "<18 years",
                                        "18-29 years",
                                        "30-39 years",
                                        "40-49 years",
                                        "50-59 years",
                                        "50-64 years",
                                        "60-69 years",
                                        "65-74 years",
                                        "70-79 years",
                                        "75-84 years",
                                        "80+ years",
                                        "85+ years"
                                    ],
                                    "xaxis": "x",
                                    "y": [
                                        0,
                                        0,
                                        0,
                                        0,
                                        1,
                                        1,
                                        0,
                                        2,
                                        2,
                                        1,
                                        2,
                                        1,
                                        0,
                                        0,
                                        0,
                                        2,
                                        0,
                                        1,
                                        2,
                                        2,
                                        2,
                                        1,
                                        1,
                                        3,
                                        2,
                                        0,
                                        1,
                                        11,
                                        40,
                                        94,
                                        232,
                                        416,
                                        445,
                                        583,
                                        703,
                                        762,
                                        1234,
                                        853,
                                        9,
                                        76,
                                        190,
                                        519,
                                        1480,
                                        3031,
                                        3589,
                                        4814,
                                        6143,
                                        7379,
                                        15882,
                                        11870,
                                        1,
                                        6,
                                        37,
                                        102,
                                        286,
                                        852,
                                        1733,
                                        2117,
                                        2856,
                                        3548,
                                        4351,
                                        10778,
                                        8355,
                                        7,
                                        43,
                                        101,
                                        214,
                                        577,
                                        1074,
                                        1115,
                                        1449,
                                        1801,
                                        2130,
                                        4568,
                                        3408,
                                        9,
                                        83,
                                        183,
                                        437,
                                        1059,
                                        2013,
                                        2190,
                                        2757,
                                        3114,
                                        3424,
                                        6410,
                                        4579,
                                        8,
                                        48,
                                        135,
                                        370,
                                        952,
                                        1879,
                                        2116,
                                        2654,
                                        3087,
                                        3481,
                                        6384,
                                        4525,
                                        1,
                                        2,
                                        31,
                                        74,
                                        187,
                                        474,
                                        952,
                                        1123,
                                        1545,
                                        1831,
                                        2000,
                                        3847,
                                        2778
                                    ],
                                    "yaxis": "y"
                                },
                                {
                                    "alignmentgroup": "True",
                                    "bingroup": "x",
                                    "histfunc": "sum",
                                    "hovertemplate": "Sex=Male (M)<br>Age Group=%{x}<br>sum of COVID-19 Cases=%{y}<extra></extra>",
                                    "legendgroup": "Male (M)",
                                    "marker": {
                                        "color": "#EF553B",
                                        "pattern": {
                                            "shape": ""
                                        }
                                    },
                                    "name": "Male (M)",
                                    "offsetgroup": "Male (M)",
                                    "orientation": "v",
                                    "showlegend": true,
                                    "type": "histogram",
                                    "x": [
                                        "<18 years",
                                        "18-29 years",
                                        "30-39 years",
                                        "40-49 years",
                                        "50-59 years",
                                        "50-64 years",
                                        "60-69 years",
                                        "65-74 years",
                                        "70-79 years",
                                        "75-84 years",
                                        "80+ years",
                                        "85+ years",
                                        "Unknown age",
                                        "<18 years",
                                        "18-29 years",
                                        "30-39 years",
                                        "40-49 years",
                                        "50-59 years",
                                        "50-64 years",
                                        "60-69 years",
                                        "65-74 years",
                                        "70-79 years",
                                        "75-84 years",
                                        "80+ years",
                                        "85+ years",
                                        "<18 years",
                                        "18-29 years",
                                        "30-39 years",
                                        "40-49 years",
                                        "50-59 years",
                                        "50-64 years",
                                        "60-69 years",
                                        "65-74 years",
                                        "70-79 years",
                                        "75-84 years",
                                        "80+ years",
                                        "85+ years",
                                        "Unknown age",
                                        "<18 years",
                                        "18-29 years",
                                        "30-39 years",
                                        "40-49 years",
                                        "50-59 years",
                                        "50-64 years",
                                        "60-69 years",
                                        "65-74 years",
                                        "70-79 years",
                                        "75-84 years",
                                        "80+ years",
                                        "85+ years",
                                        "Unknown age",
                                        "<18 years",
                                        "18-29 years",
                                        "30-39 years",
                                        "40-49 years",
                                        "50-59 years",
                                        "50-64 years",
                                        "60-69 years",
                                        "65-74 years",
                                        "70-79 years",
                                        "75-84 years",
                                        "80+ years",
                                        "85+ years",
                                        "Unknown age",
                                        "<18 years",
                                        "18-29 years",
                                        "30-39 years",
                                        "40-49 years",
                                        "50-59 years",
                                        "50-64 years",
                                        "60-69 years",
                                        "65-74 years",
                                        "70-79 years",
                                        "75-84 years",
                                        "80+ years",
                                        "85+ years",
                                        "<18 years",
                                        "18-29 years",
                                        "30-39 years",
                                        "40-49 years",
                                        "50-59 years",
                                        "50-64 years",
                                        "60-69 years",
                                        "65-74 years",
                                        "70-79 years",
                                        "75-84 years",
                                        "80+ years",
                                        "85+ years",
                                        "Unknown age",
                                        "<18 years",
                                        "18-29 years",
                                        "30-39 years",
                                        "40-49 years",
                                        "50-59 years",
                                        "50-64 years",
                                        "60-69 years",
                                        "65-74 years",
                                        "70-79 years",
                                        "75-84 years",
                                        "80+ years",
                                        "85+ years",
                                        "<18 years",
                                        "18-29 years",
                                        "30-39 years",
                                        "40-49 years",
                                        "50-59 years",
                                        "50-64 years",
                                        "60-69 years",
                                        "65-74 years",
                                        "70-79 years",
                                        "75-84 years",
                                        "80+ years",
                                        "85+ years"
                                    ],
                                    "xaxis": "x",
                                    "y": [
                                        0,
                                        0,
                                        0,
                                        0,
                                        0,
                                        0,
                                        1,
                                        1,
                                        0,
                                        0,
                                        1,
                                        1,
                                        0,
                                        0,
                                        0,
                                        0,
                                        0,
                                        4,
                                        4,
                                        1,
                                        2,
                                        1,
                                        1,
                                        1,
                                        0,
                                        6,
                                        35,
                                        123,
                                        252,
                                        537,
                                        931,
                                        850,
                                        1040,
                                        1123,
                                        1099,
                                        1395,
                                        835,
                                        1,
                                        7,
                                        146,
                                        487,
                                        1284,
                                        3335,
                                        6318,
                                        6743,
                                        8234,
                                        9091,
                                        9256,
                                        12706,
                                        8067,
                                        1,
                                        12,
                                        86,
                                        250,
                                        686,
                                        1792,
                                        3380,
                                        3652,
                                        4404,
                                        4826,
                                        4862,
                                        6958,
                                        4582,
                                        1,
                                        11,
                                        58,
                                        184,
                                        461,
                                        1087,
                                        1956,
                                        1907,
                                        2266,
                                        2377,
                                        2292,
                                        3163,
                                        2020,
                                        16,
                                        137,
                                        358,
                                        867,
                                        1974,
                                        3587,
                                        3570,
                                        4219,
                                        4581,
                                        4542,
                                        5675,
                                        3452,
                                        3,
                                        6,
                                        80,
                                        222,
                                        695,
                                        1649,
                                        3087,
                                        3304,
                                        4050,
                                        4427,
                                        4358,
                                        5426,
                                        3311,
                                        4,
                                        41,
                                        116,
                                        324,
                                        841,
                                        1642,
                                        1732,
                                        2181,
                                        2534,
                                        2525,
                                        3277,
                                        2036
                                    ],
                                    "yaxis": "y"
                                }
                            ],
                            "layout": {
                                "barmode": "relative",
                                "legend": {
                                    "title": {
                                        "text": "Sex"
                                    },
                                    "tracegroupgap": 0
                                },
                                "template": {
                                    "data": {
                                        "bar": [
                                            {
                                                "error_x": {
                                                    "color": "#2a3f5f"
                                                },
                                                "error_y": {
                                                    "color": "#2a3f5f"
                                                },
                                                "marker": {
                                                    "line": {
                                                        "color": "#E5ECF6",
                                                        "width": 0.5
                                                    },
                                                    "pattern": {
                                                        "fillmode": "overlay",
                                                        "size": 10,
                                                        "solidity": 0.2
                                                    }
                                                },
                                                "type": "bar"
                                            }
                                        ],
                                        "barpolar": [
                                            {
                                                "marker": {
                                                    "line": {
                                                        "color": "#E5ECF6",
                                                        "width": 0.5
                                                    },
                                                    "pattern": {
                                                        "fillmode": "overlay",
                                                        "size": 10,
                                                        "solidity": 0.2
                                                    }
                                                },
                                                "type": "barpolar"
                                            }
                                        ],
                                        "carpet": [
                                            {
                                                "aaxis": {
                                                    "endlinecolor": "#2a3f5f",
                                                    "gridcolor": "white",
                                                    "linecolor": "white",
                                                    "minorgridcolor": "white",
                                                    "startlinecolor": "#2a3f5f"
                                                },
                                                "baxis": {
                                                    "endlinecolor": "#2a3f5f",
                                                    "gridcolor": "white",
                                                    "linecolor": "white",
                                                    "minorgridcolor": "white",
                                                    "startlinecolor": "#2a3f5f"
                                                },
                                                "type": "carpet"
                                            }
                                        ],
                                        "choropleth": [
                                            {
                                                "colorbar": {
                                                    "outlinewidth": 0,
                                                    "ticks": ""
                                                },
                                                "type": "choropleth"
                                            }
                                        ],
                                        "contour": [
                                            {
                                                "colorbar": {
                                                    "outlinewidth": 0,
                                                    "ticks": ""
                                                },
                                                "colorscale": [
                                                    [
                                                        0,
                                                        "#0d0887"
                                                    ],
                                                    [
                                                        0.1111111111111111,
                                                        "#46039f"
                                                    ],
                                                    [
                                                        0.2222222222222222,
                                                        "#7201a8"
                                                    ],
                                                    [
                                                        0.3333333333333333,
                                                        "#9c179e"
                                                    ],
                                                    [
                                                        0.4444444444444444,
                                                        "#bd3786"
                                                    ],
                                                    [
                                                        0.5555555555555556,
                                                        "#d8576b"
                                                    ],
                                                    [
                                                        0.6666666666666666,
                                                        "#ed7953"
                                                    ],
                                                    [
                                                        0.7777777777777778,
                                                        "#fb9f3a"
                                                    ],
                                                    [
                                                        0.8888888888888888,
                                                        "#fdca26"
                                                    ],
                                                    [
                                                        1,
                                                        "#f0f921"
                                                    ]
                                                ],
                                                "type": "contour"
                                            }
                                        ],
                                        "contourcarpet": [
                                            {
                                                "colorbar": {
                                                    "outlinewidth": 0,
                                                    "ticks": ""
                                                },
                                                "type": "contourcarpet"
                                            }
                                        ],
                                        "heatmap": [
                                            {
                                                "colorbar": {
                                                    "outlinewidth": 0,
                                                    "ticks": ""
                                                },
                                                "colorscale": [
                                                    [
                                                        0,
                                                        "#0d0887"
                                                    ],
                                                    [
                                                        0.1111111111111111,
                                                        "#46039f"
                                                    ],
                                                    [
                                                        0.2222222222222222,
                                                        "#7201a8"
                                                    ],
                                                    [
                                                        0.3333333333333333,
                                                        "#9c179e"
                                                    ],
                                                    [
                                                        0.4444444444444444,
                                                        "#bd3786"
                                                    ],
                                                    [
                                                        0.5555555555555556,
                                                        "#d8576b"
                                                    ],
                                                    [
                                                        0.6666666666666666,
                                                        "#ed7953"
                                                    ],
                                                    [
                                                        0.7777777777777778,
                                                        "#fb9f3a"
                                                    ],
                                                    [
                                                        0.8888888888888888,
                                                        "#fdca26"
                                                    ],
                                                    [
                                                        1,
                                                        "#f0f921"
                                                    ]
                                                ],
                                                "type": "heatmap"
                                            }
                                        ],
                                        "heatmapgl": [
                                            {
                                                "colorbar": {
                                                    "outlinewidth": 0,
                                                    "ticks": ""
                                                },
                                                "colorscale": [
                                                    [
                                                        0,
                                                        "#0d0887"
                                                    ],
                                                    [
                                                        0.1111111111111111,
                                                        "#46039f"
                                                    ],
                                                    [
                                                        0.2222222222222222,
                                                        "#7201a8"
                                                    ],
                                                    [
                                                        0.3333333333333333,
                                                        "#9c179e"
                                                    ],
                                                    [
                                                        0.4444444444444444,
                                                        "#bd3786"
                                                    ],
                                                    [
                                                        0.5555555555555556,
                                                        "#d8576b"
                                                    ],
                                                    [
                                                        0.6666666666666666,
                                                        "#ed7953"
                                                    ],
                                                    [
                                                        0.7777777777777778,
                                                        "#fb9f3a"
                                                    ],
                                                    [
                                                        0.8888888888888888,
                                                        "#fdca26"
                                                    ],
                                                    [
                                                        1,
                                                        "#f0f921"
                                                    ]
                                                ],
                                                "type": "heatmapgl"
                                            }
                                        ],
                                        "histogram": [
                                            {
                                                "marker": {
                                                    "pattern": {
                                                        "fillmode": "overlay",
                                                        "size": 10,
                                                        "solidity": 0.2
                                                    }
                                                },
                                                "type": "histogram"
                                            }
                                        ],
                                        "histogram2d": [
                                            {
                                                "colorbar": {
                                                    "outlinewidth": 0,
                                                    "ticks": ""
                                                },
                                                "colorscale": [
                                                    [
                                                        0,
                                                        "#0d0887"
                                                    ],
                                                    [
                                                        0.1111111111111111,
                                                        "#46039f"
                                                    ],
                                                    [
                                                        0.2222222222222222,
                                                        "#7201a8"
                                                    ],
                                                    [
                                                        0.3333333333333333,
                                                        "#9c179e"
                                                    ],
                                                    [
                                                        0.4444444444444444,
                                                        "#bd3786"
                                                    ],
                                                    [
                                                        0.5555555555555556,
                                                        "#d8576b"
                                                    ],
                                                    [
                                                        0.6666666666666666,
                                                        "#ed7953"
                                                    ],
                                                    [
                                                        0.7777777777777778,
                                                        "#fb9f3a"
                                                    ],
                                                    [
                                                        0.8888888888888888,
                                                        "#fdca26"
                                                    ],
                                                    [
                                                        1,
                                                        "#f0f921"
                                                    ]
                                                ],
                                                "type": "histogram2d"
                                            }
                                        ],
                                        "histogram2dcontour": [
                                            {
                                                "colorbar": {
                                                    "outlinewidth": 0,
                                                    "ticks": ""
                                                },
                                                "colorscale": [
                                                    [
                                                        0,
                                                        "#0d0887"
                                                    ],
                                                    [
                                                        0.1111111111111111,
                                                        "#46039f"
                                                    ],
                                                    [
                                                        0.2222222222222222,
                                                        "#7201a8"
                                                    ],
                                                    [
                                                        0.3333333333333333,
                                                        "#9c179e"
                                                    ],
                                                    [
                                                        0.4444444444444444,
                                                        "#bd3786"
                                                    ],
                                                    [
                                                        0.5555555555555556,
                                                        "#d8576b"
                                                    ],
                                                    [
                                                        0.6666666666666666,
                                                        "#ed7953"
                                                    ],
                                                    [
                                                        0.7777777777777778,
                                                        "#fb9f3a"
                                                    ],
                                                    [
                                                        0.8888888888888888,
                                                        "#fdca26"
                                                    ],
                                                    [
                                                        1,
                                                        "#f0f921"
                                                    ]
                                                ],
                                                "type": "histogram2dcontour"
                                            }
                                        ],
                                        "mesh3d": [
                                            {
                                                "colorbar": {
                                                    "outlinewidth": 0,
                                                    "ticks": ""
                                                },
                                                "type": "mesh3d"
                                            }
                                        ],
                                        "parcoords": [
                                            {
                                                "line": {
                                                    "colorbar": {
                                                        "outlinewidth": 0,
                                                        "ticks": ""
                                                    }
                                                },
                                                "type": "parcoords"
                                            }
                                        ],
                                        "pie": [
                                            {
                                                "automargin": true,
                                                "type": "pie"
                                            }
                                        ],
                                        "scatter": [
                                            {
                                                "marker": {
                                                    "colorbar": {
                                                        "outlinewidth": 0,
                                                        "ticks": ""
                                                    }
                                                },
                                                "type": "scatter"
                                            }
                                        ],
                                        "scatter3d": [
                                            {
                                                "line": {
                                                    "colorbar": {
                                                        "outlinewidth": 0,
                                                        "ticks": ""
                                                    }
                                                },
                                                "marker": {
                                                    "colorbar": {
                                                        "outlinewidth": 0,
                                                        "ticks": ""
                                                    }
                                                },
                                                "type": "scatter3d"
                                            }
                                        ],
                                        "scattercarpet": [
                                            {
                                                "marker": {
                                                    "colorbar": {
                                                        "outlinewidth": 0,
                                                        "ticks": ""
                                                    }
                                                },
                                                "type": "scattercarpet"
                                            }
                                        ],
                                        "scattergeo": [
                                            {
                                                "marker": {
                                                    "colorbar": {
                                                        "outlinewidth": 0,
                                                        "ticks": ""
                                                    }
                                                },
                                                "type": "scattergeo"
                                            }
                                        ],
                                        "scattergl": [
                                            {
                                                "marker": {
                                                    "colorbar": {
                                                        "outlinewidth": 0,
                                                        "ticks": ""
                                                    }
                                                },
                                                "type": "scattergl"
                                            }
                                        ],
                                        "scattermapbox": [
                                            {
                                                "marker": {
                                                    "colorbar": {
                                                        "outlinewidth": 0,
                                                        "ticks": ""
                                                    }
                                                },
                                                "type": "scattermapbox"
                                            }
                                        ],
                                        "scatterpolar": [
                                            {
                                                "marker": {
                                                    "colorbar": {
                                                        "outlinewidth": 0,
                                                        "ticks": ""
                                                    }
                                                },
                                                "type": "scatterpolar"
                                            }
                                        ],
                                        "scatterpolargl": [
                                            {
                                                "marker": {
                                                    "colorbar": {
                                                        "outlinewidth": 0,
                                                        "ticks": ""
                                                    }
                                                },
                                                "type": "scatterpolargl"
                                            }
                                        ],
                                        "scatterternary": [
                                            {
                                                "marker": {
                                                    "colorbar": {
                                                        "outlinewidth": 0,
                                                        "ticks": ""
                                                    }
                                                },
                                                "type": "scatterternary"
                                            }
                                        ],
                                        "surface": [
                                            {
                                                "colorbar": {
                                                    "outlinewidth": 0,
                                                    "ticks": ""
                                                },
                                                "colorscale": [
                                                    [
                                                        0,
                                                        "#0d0887"
                                                    ],
                                                    [
                                                        0.1111111111111111,
                                                        "#46039f"
                                                    ],
                                                    [
                                                        0.2222222222222222,
                                                        "#7201a8"
                                                    ],
                                                    [
                                                        0.3333333333333333,
                                                        "#9c179e"
                                                    ],
                                                    [
                                                        0.4444444444444444,
                                                        "#bd3786"
                                                    ],
                                                    [
                                                        0.5555555555555556,
                                                        "#d8576b"
                                                    ],
                                                    [
                                                        0.6666666666666666,
                                                        "#ed7953"
                                                    ],
                                                    [
                                                        0.7777777777777778,
                                                        "#fb9f3a"
                                                    ],
                                                    [
                                                        0.8888888888888888,
                                                        "#fdca26"
                                                    ],
                                                    [
                                                        1,
                                                        "#f0f921"
                                                    ]
                                                ],
                                                "type": "surface"
                                            }
                                        ],
                                        "table": [
                                            {
                                                "cells": {
                                                    "fill": {
                                                        "color": "#EBF0F8"
                                                    },
                                                    "line": {
                                                        "color": "white"
                                                    }
                                                },
                                                "header": {
                                                    "fill": {
                                                        "color": "#C8D4E3"
                                                    },
                                                    "line": {
                                                        "color": "white"
                                                    }
                                                },
                                                "type": "table"
                                            }
                                        ]
                                    },
                                    "layout": {
                                        "annotationdefaults": {
                                            "arrowcolor": "#2a3f5f",
                                            "arrowhead": 0,
                                            "arrowwidth": 1
                                        },
                                        "autotypenumbers": "strict",
                                        "coloraxis": {
                                            "colorbar": {
                                                "outlinewidth": 0,
                                                "ticks": ""
                                            }
                                        },
                                        "colorscale": {
                                            "diverging": [
                                                [
                                                    0,
                                                    "#8e0152"
                                                ],
                                                [
                                                    0.1,
                                                    "#c51b7d"
                                                ],
                                                [
                                                    0.2,
                                                    "#de77ae"
                                                ],
                                                [
                                                    0.3,
                                                    "#f1b6da"
                                                ],
                                                [
                                                    0.4,
                                                    "#fde0ef"
                                                ],
                                                [
                                                    0.5,
                                                    "#f7f7f7"
                                                ],
                                                [
                                                    0.6,
                                                    "#e6f5d0"
                                                ],
                                                [
                                                    0.7,
                                                    "#b8e186"
                                                ],
                                                [
                                                    0.8,
                                                    "#7fbc41"
                                                ],
                                                [
                                                    0.9,
                                                    "#4d9221"
                                                ],
                                                [
                                                    1,
                                                    "#276419"
                                                ]
                                            ],
                                            "sequential": [
                                                [
                                                    0,
                                                    "#0d0887"
                                                ],
                                                [
                                                    0.1111111111111111,
                                                    "#46039f"
                                                ],
                                                [
                                                    0.2222222222222222,
                                                    "#7201a8"
                                                ],
                                                [
                                                    0.3333333333333333,
                                                    "#9c179e"
                                                ],
                                                [
                                                    0.4444444444444444,
                                                    "#bd3786"
                                                ],
                                                [
                                                    0.5555555555555556,
                                                    "#d8576b"
                                                ],
                                                [
                                                    0.6666666666666666,
                                                    "#ed7953"
                                                ],
                                                [
                                                    0.7777777777777778,
                                                    "#fb9f3a"
                                                ],
                                                [
                                                    0.8888888888888888,
                                                    "#fdca26"
                                                ],
                                                [
                                                    1,
                                                    "#f0f921"
                                                ]
                                            ],
                                            "sequentialminus": [
                                                [
                                                    0,
                                                    "#0d0887"
                                                ],
                                                [
                                                    0.1111111111111111,
                                                    "#46039f"
                                                ],
                                                [
                                                    0.2222222222222222,
                                                    "#7201a8"
                                                ],
                                                [
                                                    0.3333333333333333,
                                                    "#9c179e"
                                                ],
                                                [
                                                    0.4444444444444444,
                                                    "#bd3786"
                                                ],
                                                [
                                                    0.5555555555555556,
                                                    "#d8576b"
                                                ],
                                                [
                                                    0.6666666666666666,
                                                    "#ed7953"
                                                ],
                                                [
                                                    0.7777777777777778,
                                                    "#fb9f3a"
                                                ],
                                                [
                                                    0.8888888888888888,
                                                    "#fdca26"
                                                ],
                                                [
                                                    1,
                                                    "#f0f921"
                                                ]
                                            ]
                                        },
                                        "colorway": [
                                            "#636efa",
                                            "#EF553B",
                                            "#00cc96",
                                            "#ab63fa",
                                            "#FFA15A",
                                            "#19d3f3",
                                            "#FF6692",
                                            "#B6E880",
                                            "#FF97FF",
                                            "#FECB52"
                                        ],
                                        "font": {
                                            "color": "#2a3f5f"
                                        },
                                        "geo": {
                                            "bgcolor": "white",
                                            "lakecolor": "white",
                                            "landcolor": "#E5ECF6",
                                            "showlakes": true,
                                            "showland": true,
                                            "subunitcolor": "white"
                                        },
                                        "hoverlabel": {
                                            "align": "left"
                                        },
                                        "hovermode": "closest",
                                        "mapbox": {
                                            "style": "light"
                                        },
                                        "paper_bgcolor": "white",
                                        "plot_bgcolor": "#E5ECF6",
                                        "polar": {
                                            "angularaxis": {
                                                "gridcolor": "white",
                                                "linecolor": "white",
                                                "ticks": ""
                                            },
                                            "bgcolor": "#E5ECF6",
                                            "radialaxis": {
                                                "gridcolor": "white",
                                                "linecolor": "white",
                                                "ticks": ""
                                            }
                                        },
                                        "scene": {
                                            "xaxis": {
                                                "backgroundcolor": "#E5ECF6",
                                                "gridcolor": "white",
                                                "gridwidth": 2,
                                                "linecolor": "white",
                                                "showbackground": true,
                                                "ticks": "",
                                                "zerolinecolor": "white"
                                            },
                                            "yaxis": {
                                                "backgroundcolor": "#E5ECF6",
                                                "gridcolor": "white",
                                                "gridwidth": 2,
                                                "linecolor": "white",
                                                "showbackground": true,
                                                "ticks": "",
                                                "zerolinecolor": "white"
                                            },
                                            "zaxis": {
                                                "backgroundcolor": "#E5ECF6",
                                                "gridcolor": "white",
                                                "gridwidth": 2,
                                                "linecolor": "white",
                                                "showbackground": true,
                                                "ticks": "",
                                                "zerolinecolor": "white"
                                            }
                                        },
                                        "shapedefaults": {
                                            "line": {
                                                "color": "#2a3f5f"
                                            }
                                        },
                                        "ternary": {
                                            "aaxis": {
                                                "gridcolor": "white",
                                                "linecolor": "white",
                                                "ticks": ""
                                            },
                                            "baxis": {
                                                "gridcolor": "white",
                                                "linecolor": "white",
                                                "ticks": ""
                                            },
                                            "bgcolor": "#E5ECF6",
                                            "caxis": {
                                                "gridcolor": "white",
                                                "linecolor": "white",
                                                "ticks": ""
                                            }
                                        },
                                        "title": {
                                            "x": 0.05
                                        },
                                        "xaxis": {
                                            "automargin": true,
                                            "gridcolor": "white",
                                            "linecolor": "white",
                                            "ticks": "",
                                            "title": {
                                                "standoff": 15
                                            },
                                            "zerolinecolor": "white",
                                            "zerolinewidth": 2
                                        },
                                        "yaxis": {
                                            "automargin": true,
                                            "gridcolor": "white",
                                            "linecolor": "white",
                                            "ticks": "",
                                            "title": {
                                                "standoff": 15
                                            },
                                            "zerolinecolor": "white",
                                            "zerolinewidth": 2
                                        }
                                    }
                                },
                                "title": {
                                    "text": "Covid-19 Deaths by Age"
                                },
                                "xaxis": {
                                    "anchor": "y",
                                    "domain": [
                                        0,
                                        1
                                    ],
                                    "title": {
                                        "text": "Age Group"
                                    }
                                },
                                "yaxis": {
                                    "anchor": "x",
                                    "domain": [
                                        0,
                                        1
                                    ],
                                    "title": {
                                        "text": "sum of COVID-19 Cases"
                                    }
                                }
                            }
                        }
                    },
                    "metadata": {}
                }
            ],
            "metadata": {}
        },
        {
            "cell_type": "code",
            "execution_count": 46,
            "source": [
                "pd.pivot_table(df,values='COVID19', index=['AgeGroup','Sex'], aggfunc=np.sum)"
            ],
            "outputs": [
                {
                    "output_type": "execute_result",
                    "data": {
                        "text/plain": [
                            "                        COVID19\n",
                            "AgeGroup    Sex                \n",
                            "18-29 years Female (F)      329\n",
                            "            Male (M)        583\n",
                            "30-39 years Female (F)      827\n",
                            "            Male (M)       1740\n",
                            "40-49 years Female (F)     2107\n",
                            "            Male (M)       4569\n",
                            "50-59 years Female (F)     5628\n",
                            "            Male (M)      11219\n",
                            "50-64 years Female (F)    11101\n",
                            "            Male (M)      20905\n",
                            "60-69 years Female (F)    12697\n",
                            "            Male (M)      21760\n",
                            "65-74 years Female (F)    16662\n",
                            "            Male (M)      26397\n",
                            "70-79 years Female (F)    20230\n",
                            "            Male (M)      28960\n",
                            "75-84 years Female (F)    23529\n",
                            "            Male (M)      28935\n",
                            "80+ years   Female (F)    49108\n",
                            "            Male (M)      38602\n",
                            "85+ years   Female (F)    36371\n",
                            "            Male (M)      24304\n",
                            "<18 years   Female (F)       42\n",
                            "            Male (M)         62\n",
                            "Unknown age Female (F)        2\n",
                            "            Male (M)          6"
                        ],
                        "text/html": [
                            "<div>\n",
                            "<style scoped>\n",
                            "    .dataframe tbody tr th:only-of-type {\n",
                            "        vertical-align: middle;\n",
                            "    }\n",
                            "\n",
                            "    .dataframe tbody tr th {\n",
                            "        vertical-align: top;\n",
                            "    }\n",
                            "\n",
                            "    .dataframe thead th {\n",
                            "        text-align: right;\n",
                            "    }\n",
                            "</style>\n",
                            "<table border=\"1\" class=\"dataframe\">\n",
                            "  <thead>\n",
                            "    <tr style=\"text-align: right;\">\n",
                            "      <th></th>\n",
                            "      <th></th>\n",
                            "      <th>COVID19</th>\n",
                            "    </tr>\n",
                            "    <tr>\n",
                            "      <th>AgeGroup</th>\n",
                            "      <th>Sex</th>\n",
                            "      <th></th>\n",
                            "    </tr>\n",
                            "  </thead>\n",
                            "  <tbody>\n",
                            "    <tr>\n",
                            "      <th rowspan=\"2\" valign=\"top\">18-29 years</th>\n",
                            "      <th>Female (F)</th>\n",
                            "      <td>329</td>\n",
                            "    </tr>\n",
                            "    <tr>\n",
                            "      <th>Male (M)</th>\n",
                            "      <td>583</td>\n",
                            "    </tr>\n",
                            "    <tr>\n",
                            "      <th rowspan=\"2\" valign=\"top\">30-39 years</th>\n",
                            "      <th>Female (F)</th>\n",
                            "      <td>827</td>\n",
                            "    </tr>\n",
                            "    <tr>\n",
                            "      <th>Male (M)</th>\n",
                            "      <td>1740</td>\n",
                            "    </tr>\n",
                            "    <tr>\n",
                            "      <th rowspan=\"2\" valign=\"top\">40-49 years</th>\n",
                            "      <th>Female (F)</th>\n",
                            "      <td>2107</td>\n",
                            "    </tr>\n",
                            "    <tr>\n",
                            "      <th>Male (M)</th>\n",
                            "      <td>4569</td>\n",
                            "    </tr>\n",
                            "    <tr>\n",
                            "      <th rowspan=\"2\" valign=\"top\">50-59 years</th>\n",
                            "      <th>Female (F)</th>\n",
                            "      <td>5628</td>\n",
                            "    </tr>\n",
                            "    <tr>\n",
                            "      <th>Male (M)</th>\n",
                            "      <td>11219</td>\n",
                            "    </tr>\n",
                            "    <tr>\n",
                            "      <th rowspan=\"2\" valign=\"top\">50-64 years</th>\n",
                            "      <th>Female (F)</th>\n",
                            "      <td>11101</td>\n",
                            "    </tr>\n",
                            "    <tr>\n",
                            "      <th>Male (M)</th>\n",
                            "      <td>20905</td>\n",
                            "    </tr>\n",
                            "    <tr>\n",
                            "      <th rowspan=\"2\" valign=\"top\">60-69 years</th>\n",
                            "      <th>Female (F)</th>\n",
                            "      <td>12697</td>\n",
                            "    </tr>\n",
                            "    <tr>\n",
                            "      <th>Male (M)</th>\n",
                            "      <td>21760</td>\n",
                            "    </tr>\n",
                            "    <tr>\n",
                            "      <th rowspan=\"2\" valign=\"top\">65-74 years</th>\n",
                            "      <th>Female (F)</th>\n",
                            "      <td>16662</td>\n",
                            "    </tr>\n",
                            "    <tr>\n",
                            "      <th>Male (M)</th>\n",
                            "      <td>26397</td>\n",
                            "    </tr>\n",
                            "    <tr>\n",
                            "      <th rowspan=\"2\" valign=\"top\">70-79 years</th>\n",
                            "      <th>Female (F)</th>\n",
                            "      <td>20230</td>\n",
                            "    </tr>\n",
                            "    <tr>\n",
                            "      <th>Male (M)</th>\n",
                            "      <td>28960</td>\n",
                            "    </tr>\n",
                            "    <tr>\n",
                            "      <th rowspan=\"2\" valign=\"top\">75-84 years</th>\n",
                            "      <th>Female (F)</th>\n",
                            "      <td>23529</td>\n",
                            "    </tr>\n",
                            "    <tr>\n",
                            "      <th>Male (M)</th>\n",
                            "      <td>28935</td>\n",
                            "    </tr>\n",
                            "    <tr>\n",
                            "      <th rowspan=\"2\" valign=\"top\">80+ years</th>\n",
                            "      <th>Female (F)</th>\n",
                            "      <td>49108</td>\n",
                            "    </tr>\n",
                            "    <tr>\n",
                            "      <th>Male (M)</th>\n",
                            "      <td>38602</td>\n",
                            "    </tr>\n",
                            "    <tr>\n",
                            "      <th rowspan=\"2\" valign=\"top\">85+ years</th>\n",
                            "      <th>Female (F)</th>\n",
                            "      <td>36371</td>\n",
                            "    </tr>\n",
                            "    <tr>\n",
                            "      <th>Male (M)</th>\n",
                            "      <td>24304</td>\n",
                            "    </tr>\n",
                            "    <tr>\n",
                            "      <th rowspan=\"2\" valign=\"top\">&lt;18 years</th>\n",
                            "      <th>Female (F)</th>\n",
                            "      <td>42</td>\n",
                            "    </tr>\n",
                            "    <tr>\n",
                            "      <th>Male (M)</th>\n",
                            "      <td>62</td>\n",
                            "    </tr>\n",
                            "    <tr>\n",
                            "      <th rowspan=\"2\" valign=\"top\">Unknown age</th>\n",
                            "      <th>Female (F)</th>\n",
                            "      <td>2</td>\n",
                            "    </tr>\n",
                            "    <tr>\n",
                            "      <th>Male (M)</th>\n",
                            "      <td>6</td>\n",
                            "    </tr>\n",
                            "  </tbody>\n",
                            "</table>\n",
                            "</div>"
                        ]
                    },
                    "metadata": {},
                    "execution_count": 46
                }
            ],
            "metadata": {}
        }
    ],
    "metadata": {
        "orig_nbformat": 4,
        "language_info": {
            "name": "python",
            "version": "3.9.6",
            "mimetype": "text/x-python",
            "codemirror_mode": {
                "name": "ipython",
                "version": 3
            },
            "pygments_lexer": "ipython3",
            "nbconvert_exporter": "python",
            "file_extension": ".py"
        },
        "kernelspec": {
            "name": "python3",
            "display_name": "Python 3.9.6 64-bit ('env': venv)"
        },
        "interpreter": {
            "hash": "4f3b8f8ac3b8b2d541a72003adc50b8daad4946e6c7ed87ea721d01efc1aef5f"
        }
    },
    "nbformat": 4,
    "nbformat_minor": 2
}